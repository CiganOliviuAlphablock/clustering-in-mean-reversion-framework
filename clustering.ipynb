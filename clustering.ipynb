{
 "cells": [
  {
   "cell_type": "code",
   "execution_count": 1,
   "id": "initial_id",
   "metadata": {
    "is_executing": true
   },
   "outputs": [],
   "source": [
    "import matplotlib.pyplot as plt\n",
    "import matplotlib.colors as mcolors\n",
    "import pandas as pd\n",
    "from scipy import stats\n",
    "from dependencies import perform_kmeans_clustering, get_annual_return, perform_polynomial_clustering"
   ]
  },
  {
   "cell_type": "code",
   "execution_count": 2,
   "id": "2e87669309b3214e",
   "metadata": {
    "collapsed": false,
    "jupyter": {
     "outputs_hidden": false
    }
   },
   "outputs": [
    {
     "data": {
      "text/html": [
       "<div>\n",
       "<style scoped>\n",
       "    .dataframe tbody tr th:only-of-type {\n",
       "        vertical-align: middle;\n",
       "    }\n",
       "\n",
       "    .dataframe tbody tr th {\n",
       "        vertical-align: top;\n",
       "    }\n",
       "\n",
       "    .dataframe thead th {\n",
       "        text-align: right;\n",
       "    }\n",
       "</style>\n",
       "<table border=\"1\" class=\"dataframe\">\n",
       "  <thead>\n",
       "    <tr style=\"text-align: right;\">\n",
       "      <th></th>\n",
       "      <th>Date</th>\n",
       "      <th>APA</th>\n",
       "      <th>MTCH</th>\n",
       "      <th>GEN</th>\n",
       "      <th>DXC</th>\n",
       "      <th>EG</th>\n",
       "      <th>BKR</th>\n",
       "      <th>AMD</th>\n",
       "      <th>HON</th>\n",
       "      <th>BALL</th>\n",
       "      <th>...</th>\n",
       "      <th>SNPS</th>\n",
       "      <th>SWKS</th>\n",
       "      <th>ZION</th>\n",
       "      <th>TTWO</th>\n",
       "      <th>VRTX</th>\n",
       "      <th>TRMB</th>\n",
       "      <th>ZBRA</th>\n",
       "      <th>LNT</th>\n",
       "      <th>BBWI</th>\n",
       "      <th>WBA</th>\n",
       "    </tr>\n",
       "  </thead>\n",
       "  <tbody>\n",
       "    <tr>\n",
       "      <th>0</th>\n",
       "      <td>2000-01-03</td>\n",
       "      <td>14.772727</td>\n",
       "      <td>7.527071</td>\n",
       "      <td>7.109375</td>\n",
       "      <td>46.327873</td>\n",
       "      <td>21.8750</td>\n",
       "      <td>20.2500</td>\n",
       "      <td>15.500</td>\n",
       "      <td>54.044136</td>\n",
       "      <td>2.488281</td>\n",
       "      <td>...</td>\n",
       "      <td>32.781250</td>\n",
       "      <td>31.406250</td>\n",
       "      <td>55.5000</td>\n",
       "      <td>9.125000</td>\n",
       "      <td>18.78125</td>\n",
       "      <td>4.145833</td>\n",
       "      <td>25.027779</td>\n",
       "      <td>13.40625</td>\n",
       "      <td>16.395514</td>\n",
       "      <td>28.5625</td>\n",
       "    </tr>\n",
       "    <tr>\n",
       "      <th>1</th>\n",
       "      <td>2000-01-04</td>\n",
       "      <td>14.123377</td>\n",
       "      <td>6.921444</td>\n",
       "      <td>6.781250</td>\n",
       "      <td>46.017365</td>\n",
       "      <td>21.8125</td>\n",
       "      <td>20.2500</td>\n",
       "      <td>14.625</td>\n",
       "      <td>53.090767</td>\n",
       "      <td>2.406250</td>\n",
       "      <td>...</td>\n",
       "      <td>30.437500</td>\n",
       "      <td>29.562500</td>\n",
       "      <td>52.8125</td>\n",
       "      <td>8.875000</td>\n",
       "      <td>17.28125</td>\n",
       "      <td>4.072917</td>\n",
       "      <td>24.666668</td>\n",
       "      <td>13.40625</td>\n",
       "      <td>16.067099</td>\n",
       "      <td>27.5000</td>\n",
       "    </tr>\n",
       "    <tr>\n",
       "      <th>2</th>\n",
       "      <td>2000-01-05</td>\n",
       "      <td>14.529221</td>\n",
       "      <td>6.661890</td>\n",
       "      <td>6.375000</td>\n",
       "      <td>42.788074</td>\n",
       "      <td>23.2500</td>\n",
       "      <td>20.3750</td>\n",
       "      <td>15.000</td>\n",
       "      <td>52.375736</td>\n",
       "      <td>2.449219</td>\n",
       "      <td>...</td>\n",
       "      <td>30.703125</td>\n",
       "      <td>30.328125</td>\n",
       "      <td>52.7500</td>\n",
       "      <td>8.833333</td>\n",
       "      <td>17.00000</td>\n",
       "      <td>3.817708</td>\n",
       "      <td>25.138889</td>\n",
       "      <td>14.06250</td>\n",
       "      <td>15.839733</td>\n",
       "      <td>27.8125</td>\n",
       "    </tr>\n",
       "    <tr>\n",
       "      <th>3</th>\n",
       "      <td>2000-01-06</td>\n",
       "      <td>15.909091</td>\n",
       "      <td>6.938748</td>\n",
       "      <td>6.007813</td>\n",
       "      <td>43.409092</td>\n",
       "      <td>24.3125</td>\n",
       "      <td>22.3125</td>\n",
       "      <td>16.000</td>\n",
       "      <td>53.388695</td>\n",
       "      <td>2.488281</td>\n",
       "      <td>...</td>\n",
       "      <td>28.468750</td>\n",
       "      <td>27.375000</td>\n",
       "      <td>53.5000</td>\n",
       "      <td>8.750000</td>\n",
       "      <td>16.75000</td>\n",
       "      <td>3.854167</td>\n",
       "      <td>23.777779</td>\n",
       "      <td>14.06250</td>\n",
       "      <td>15.587106</td>\n",
       "      <td>27.0000</td>\n",
       "    </tr>\n",
       "    <tr>\n",
       "      <th>4</th>\n",
       "      <td>2000-01-07</td>\n",
       "      <td>15.854978</td>\n",
       "      <td>6.904141</td>\n",
       "      <td>6.484375</td>\n",
       "      <td>43.315941</td>\n",
       "      <td>25.6250</td>\n",
       "      <td>23.8125</td>\n",
       "      <td>16.250</td>\n",
       "      <td>56.248802</td>\n",
       "      <td>2.417969</td>\n",
       "      <td>...</td>\n",
       "      <td>28.750000</td>\n",
       "      <td>30.187500</td>\n",
       "      <td>53.6250</td>\n",
       "      <td>9.000000</td>\n",
       "      <td>18.21875</td>\n",
       "      <td>3.854167</td>\n",
       "      <td>23.513889</td>\n",
       "      <td>14.25000</td>\n",
       "      <td>15.688157</td>\n",
       "      <td>27.6875</td>\n",
       "    </tr>\n",
       "  </tbody>\n",
       "</table>\n",
       "<p>5 rows × 366 columns</p>\n",
       "</div>"
      ],
      "text/plain": [
       "         Date        APA      MTCH       GEN        DXC       EG      BKR  \\\n",
       "0  2000-01-03  14.772727  7.527071  7.109375  46.327873  21.8750  20.2500   \n",
       "1  2000-01-04  14.123377  6.921444  6.781250  46.017365  21.8125  20.2500   \n",
       "2  2000-01-05  14.529221  6.661890  6.375000  42.788074  23.2500  20.3750   \n",
       "3  2000-01-06  15.909091  6.938748  6.007813  43.409092  24.3125  22.3125   \n",
       "4  2000-01-07  15.854978  6.904141  6.484375  43.315941  25.6250  23.8125   \n",
       "\n",
       "      AMD        HON      BALL  ...       SNPS       SWKS     ZION      TTWO  \\\n",
       "0  15.500  54.044136  2.488281  ...  32.781250  31.406250  55.5000  9.125000   \n",
       "1  14.625  53.090767  2.406250  ...  30.437500  29.562500  52.8125  8.875000   \n",
       "2  15.000  52.375736  2.449219  ...  30.703125  30.328125  52.7500  8.833333   \n",
       "3  16.000  53.388695  2.488281  ...  28.468750  27.375000  53.5000  8.750000   \n",
       "4  16.250  56.248802  2.417969  ...  28.750000  30.187500  53.6250  9.000000   \n",
       "\n",
       "       VRTX      TRMB       ZBRA       LNT       BBWI      WBA  \n",
       "0  18.78125  4.145833  25.027779  13.40625  16.395514  28.5625  \n",
       "1  17.28125  4.072917  24.666668  13.40625  16.067099  27.5000  \n",
       "2  17.00000  3.817708  25.138889  14.06250  15.839733  27.8125  \n",
       "3  16.75000  3.854167  23.777779  14.06250  15.587106  27.0000  \n",
       "4  18.21875  3.854167  23.513889  14.25000  15.688157  27.6875  \n",
       "\n",
       "[5 rows x 366 columns]"
      ]
     },
     "execution_count": 2,
     "metadata": {},
     "output_type": "execute_result"
    }
   ],
   "source": [
    "data_frame = pd.read_csv('datasets/S&P500_EOD-Price.csv')\n",
    "data_frame = data_frame.dropna(axis=1)\n",
    "\n",
    "data_frame.head()"
   ]
  },
  {
   "cell_type": "code",
   "execution_count": null,
   "id": "a79e9c82-eb98-457f-9cdf-06788669af01",
   "metadata": {
    "scrolled": true
   },
   "outputs": [],
   "source": [
    "data_frame[\"Date\"] = pd.to_datetime(data_frame[\"Date\"])\n",
    "data_frame['Year'] = data_frame[\"Date\"].dt.year\n",
    "\n",
    "processing_years = [year for year in range(2000, 2025)]\n",
    "data_frame_annual_returns = []\n",
    "\n",
    "for year in processing_years:\n",
    "    filtered_data = data_frame[data_frame['Year'] == year]\n",
    "    for column in filtered_data.columns:\n",
    "        if column not in [\"Date\", \"Year\"]:\n",
    "            annual_return = get_annual_return(filtered_data[column].iloc[0], filtered_data[column].iloc[-1])\n",
    "            annual_returns = [get_annual_return(filtered_data[column].iloc[0], filtered_data[column].iloc[i]) for i in range(len(filtered_data))]  \n",
    "           \n",
    "            relative_percentile = stats.percentileofscore(annual_returns, annual_return)\n",
    "            data_frame_annual_returns.append({'Stock': column, 'Year': year, 'Annual_Return': annual_return, 'Relative_Percentile': relative_percentile})\n",
    "\n",
    "\n",
    "data_frame_annual_percentile = pd.DataFrame(data_frame_annual_returns)"
   ]
  },
  {
   "cell_type": "code",
   "execution_count": null,
   "id": "e49c091e-4bc0-4b23-a0b7-50534bd011d2",
   "metadata": {},
   "outputs": [],
   "source": [
    "data_frame_annual_percentile.head()"
   ]
  },
  {
   "cell_type": "code",
   "execution_count": null,
   "id": "7c473d19-ece2-47b3-b3da-c26bdabf220c",
   "metadata": {},
   "outputs": [],
   "source": [
    "import numpy as np\n",
    "\n",
    "cmap = plt.cm.viridis\n",
    "norm = mcolors.Normalize(vmin=0, vmax=2)\n",
    "\n",
    "for year in processing_years:\n",
    "    filtered_data_frame_by_year = data_frame_annual_percentile[data_frame_annual_percentile['Year'] == year]\n",
    "\n",
    "    perform_kmeans_clustering(filtered_data_frame_by_year, ['Relative_Percentile', 'Annual_Return'], cmap, str(year) + ' K-means Clustering with 3 clusters', save_as_image=False)\n",
    "    perform_polynomial_clustering(filtered_data_frame_by_year, ['Relative_Percentile', 'Annual_Return'], str(year) + ' Polynomial Regression', save_as_image=True)"
   ]
  },
  {
   "cell_type": "code",
   "execution_count": null,
   "id": "29243124-4313-49dd-ac01-3b72d0c8f92c",
   "metadata": {},
   "outputs": [],
   "source": [
    "data_frame_annual_percentile_filtered_data_2024 = data_frame_annual_percentile[data_frame_annual_percentile['Year'] == 2024]\n",
    "data_frame_annual_percentile_filtered_data_2024.head()"
   ]
  },
  {
   "cell_type": "code",
   "execution_count": null,
   "id": "5a87d80b-0675-4585-a2e8-08656d92820d",
   "metadata": {},
   "outputs": [],
   "source": [
    "mcap_data_frame = pd.read_excel('datasets/MCAP_2024.xlsx')\n",
    "mcap_data_frame['Mcap'] = mcap_data_frame['Mcap'].str.replace(',', '').astype(float)\n",
    "mcap_list = list(mcap_data_frame.iloc[:, 0].sort_values())"
   ]
  },
  {
   "cell_type": "code",
   "execution_count": null,
   "id": "547bd6cb-a48a-4a7f-b4bb-a4c98fa6fc50",
   "metadata": {},
   "outputs": [],
   "source": [
    "data_frame_annual_percentile_filtered_data_2024_list = list(data_frame_annual_percentile_filtered_data_2024.iloc[:, 0].sort_values())"
   ]
  },
  {
   "cell_type": "code",
   "execution_count": null,
   "id": "86730b25-5739-4336-a66d-4bdb93475b62",
   "metadata": {},
   "outputs": [],
   "source": [
    "combined_stock_info = []\n",
    "\n",
    "for filtered_stock in data_frame_annual_percentile_filtered_data_2024_list:\n",
    "    for mcap_stock in mcap_list:\n",
    "        if filtered_stock == mcap_stock:\n",
    "            combined_stock_info.append(filtered_stock)"
   ]
  },
  {
   "cell_type": "code",
   "execution_count": null,
   "id": "45996cef-0779-4eff-98d1-9cc5b47393bd",
   "metadata": {},
   "outputs": [],
   "source": [
    "mcap_data_frame.head()"
   ]
  },
  {
   "cell_type": "code",
   "execution_count": null,
   "id": "62b199e8-68cd-4dd4-8658-dae77d2d9737",
   "metadata": {},
   "outputs": [],
   "source": [
    "data_frame_annual_percentile_filtered_data_2024.sort_values(by='Stock').head()"
   ]
  },
  {
   "cell_type": "code",
   "execution_count": null,
   "id": "40ac9b2d-99c6-458c-9822-1c8a635a15b6",
   "metadata": {},
   "outputs": [],
   "source": [
    "for id_value in combined_stock_info:\n",
    "    if id_value in mcap_data_frame['Ticker'].values and id_value in data_frame_annual_percentile_filtered_data_2024['Stock'].values:\n",
    "        if mcap_data_frame.loc[mcap_data_frame['Ticker'] == id_value, 'Mcap'].values[0]:\n",
    "            specific_column_value = mcap_data_frame.loc[mcap_data_frame['Ticker'] == id_value, 'Mcap'].values[0]\n",
    "            data_frame_annual_percentile_filtered_data_2024.loc[data_frame_annual_percentile_filtered_data_2024['Stock'] == id_value, 'Mcap'] = specific_column_value\n",
    "\n",
    "data_frame_annual_percentile_filtered_data_2024.head()"
   ]
  },
  {
   "cell_type": "code",
   "execution_count": null,
   "id": "8450a610-adbc-44b6-9e6b-a8d6fad239fe",
   "metadata": {},
   "outputs": [],
   "source": [
    "data_frame_annual_percentile_filtered_data_2024.sort_values(by='Stock').head()"
   ]
  },
  {
   "cell_type": "code",
   "execution_count": null,
   "id": "307d522c-0673-4cea-815b-343c76781753",
   "metadata": {},
   "outputs": [],
   "source": [
    "data_frame_annual_percentile_filtered_data_2024 = data_frame_annual_percentile_filtered_data_2024.dropna()"
   ]
  },
  {
   "cell_type": "code",
   "execution_count": null,
   "id": "0eccc31a-6d8e-4fa7-ad6e-77d6816cc05d",
   "metadata": {},
   "outputs": [],
   "source": [
    "perform_kmeans_clustering(data_frame_annual_percentile_filtered_data_2024, ['Mcap', 'Annual_Return'], save_as_image=False)"
   ]
  },
  {
   "cell_type": "code",
   "execution_count": null,
   "id": "1ca5a878-d5d6-427f-b236-17355542ca29",
   "metadata": {},
   "outputs": [],
   "source": [
    "perform_kmeans_clustering(data_frame_annual_percentile_filtered_data_2024, ['Mcap', 'Relative_Percentile'], save_as_image=False)"
   ]
  }
 ],
 "metadata": {
  "kernelspec": {
   "display_name": "Python 3 (ipykernel)",
   "language": "python",
   "name": "python3"
  },
  "language_info": {
   "codemirror_mode": {
    "name": "ipython",
    "version": 3
   },
   "file_extension": ".py",
   "mimetype": "text/x-python",
   "name": "python",
   "nbconvert_exporter": "python",
   "pygments_lexer": "ipython3",
   "version": "3.9.9"
  }
 },
 "nbformat": 4,
 "nbformat_minor": 5
}
